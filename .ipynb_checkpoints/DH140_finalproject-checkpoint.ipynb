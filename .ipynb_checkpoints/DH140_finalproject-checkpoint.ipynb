{
 "cells": [
  {
   "cell_type": "markdown",
   "id": "bbf0a3f2",
   "metadata": {},
   "source": [
    "# Exploring Themes in Modern Art\n",
    "\n",
    "Erin Zhu\n",
    "3/20/2023\n",
    "\n",
    "## Introduction\n",
    "\n",
    "### Overview\n",
    "[The Museum of Modern Art (MoMA) Collection](https://github.com/MuseumofModernArt/collection)\n",
    "\n",
    "* The Museum of Modern Art (MoMA) acquired its first artworks in 1929, the year it was established. Today, the Museum’s evolving collection contains almost 200,000 works from around the world spanning the last 150 years. The collection includes an ever-expanding range of visual expression, including painting, sculpture, printmaking, drawing, photography, architecture, design, film, and media and performance art.\n",
    "\n",
    "* The Artists dataset contains 15,243 records, representing all the artists who have work in MoMA's collection and have been cataloged in our database. It includes basic metadata for each artist, including name, nationality, gender, birth year, death year, Wiki QID, and Getty ULAN ID.\n",
    "\n",
    "* This project explores the collection and aims to reveal what artworks are more flavored in modern arts, or in this collection, cutting from different aspects such as themes, scales, and gender ratio of the artworks. \n",
    "\n",
    "### Research Topic\n",
    "\n",
    "* Through analysis on the distribution of the artists and different scales of the artwork, this project researches the underlying information in this dataset, and studies implicit determinants that makes an artwork more flavored in modern art. This project focuses on social and economy environment, gender, and nationality of artists to give a general assessment of possible aspects that affects the frequency of appearance of artworks in this collection and explore the underlying reasons for the pervalence of such artworks. \n",
    "\n",
    "### Questions\n",
    "\n",
    "* What makes a certain type of artwork more common in modern arts and in this collection? Is it gender? Is it history backgrounds? Is it nationality, or even the size of the artwork itself? \n",
    "* Are there underrepresented groups in this collection? If there are, what are these groups and what might be the cause of the underrepresentation? \n",
    "\n",
    "### Motivation\n",
    "\n",
    "* Through exploring this dataset, I gradually becomes curious about these questions. The dataset itself is too large to find a certain pattern in it, but with the help of tools, it is possible for us to explore the whole dataset in condensed visualizations. \n",
    "* Based off the methods we learned in class, I was interested in how mapping and text analysis could be applied in this dataset to visualize some invisible patterns in this dataset and hopefully approach my research questions and provide some insights into what are we seeing and not seeing in seemingly unbiased artwork collections and even some underrepresented artworks and groups in this collection. I hope that this project would allow us to see some implicit factors that are affecting our flavor of artworks, including reasonable factors and underlying biases. "
   ]
  },
  {
   "cell_type": "markdown",
   "id": "4d1cad3f",
   "metadata": {},
   "source": [
    "## Methods\n",
    "\n",
    "* TODO: explain your data and your analytical process"
   ]
  },
  {
   "cell_type": "markdown",
   "id": "342c57fc",
   "metadata": {},
   "source": [
    "## Results\n",
    "\n",
    "### Data Exploration\n",
    "\n",
    "Let's start off by importing the dataset and sample some rows in the datasets. "
   ]
  },
  {
   "cell_type": "code",
   "execution_count": 1,
   "id": "77f38a75",
   "metadata": {},
   "outputs": [],
   "source": [
    "# import packages\n",
    "import numpy as np\n",
    "import matplotlib.pyplot as plt\n",
    "import pandas as pd\n",
    "import math\n",
    "import string"
   ]
  },
  {
   "cell_type": "code",
   "execution_count": 2,
   "id": "21449d1d",
   "metadata": {},
   "outputs": [],
   "source": [
    "# importing data\n",
    "\n",
    "artists_df = pd.read_csv('https://github.com/MuseumofModernArt/collection/raw/master/Artists.csv')\n",
    "artworks_df = pd.read_csv('https://github.com/MuseumofModernArt/collection/raw/master/Artworks.csv')"
   ]
  },
  {
   "cell_type": "code",
   "execution_count": 3,
   "id": "d4594a67",
   "metadata": {},
   "outputs": [
    {
     "data": {
      "text/html": [
       "<div>\n",
       "<style scoped>\n",
       "    .dataframe tbody tr th:only-of-type {\n",
       "        vertical-align: middle;\n",
       "    }\n",
       "\n",
       "    .dataframe tbody tr th {\n",
       "        vertical-align: top;\n",
       "    }\n",
       "\n",
       "    .dataframe thead th {\n",
       "        text-align: right;\n",
       "    }\n",
       "</style>\n",
       "<table border=\"1\" class=\"dataframe\">\n",
       "  <thead>\n",
       "    <tr style=\"text-align: right;\">\n",
       "      <th></th>\n",
       "      <th>ConstituentID</th>\n",
       "      <th>DisplayName</th>\n",
       "      <th>ArtistBio</th>\n",
       "      <th>Nationality</th>\n",
       "      <th>Gender</th>\n",
       "      <th>BeginDate</th>\n",
       "      <th>EndDate</th>\n",
       "      <th>Wiki QID</th>\n",
       "      <th>ULAN</th>\n",
       "    </tr>\n",
       "  </thead>\n",
       "  <tbody>\n",
       "    <tr>\n",
       "      <th>13202</th>\n",
       "      <td>44844</td>\n",
       "      <td>Eladio Dieste</td>\n",
       "      <td>Uruguayan, 1917–2000</td>\n",
       "      <td>Uruguayan</td>\n",
       "      <td>Male</td>\n",
       "      <td>1917</td>\n",
       "      <td>2000</td>\n",
       "      <td>NaN</td>\n",
       "      <td>NaN</td>\n",
       "    </tr>\n",
       "    <tr>\n",
       "      <th>1639</th>\n",
       "      <td>1856</td>\n",
       "      <td>Gabriel Fernández Ledesma</td>\n",
       "      <td>Mexican, 1900–1982</td>\n",
       "      <td>Mexican</td>\n",
       "      <td>Male</td>\n",
       "      <td>1900</td>\n",
       "      <td>1982</td>\n",
       "      <td>NaN</td>\n",
       "      <td>NaN</td>\n",
       "    </tr>\n",
       "    <tr>\n",
       "      <th>8049</th>\n",
       "      <td>10117</td>\n",
       "      <td>Jernbolaget, Eskilstuna, Sweden</td>\n",
       "      <td>est. 1868</td>\n",
       "      <td>NaN</td>\n",
       "      <td>NaN</td>\n",
       "      <td>1868</td>\n",
       "      <td>0</td>\n",
       "      <td>NaN</td>\n",
       "      <td>NaN</td>\n",
       "    </tr>\n",
       "    <tr>\n",
       "      <th>14462</th>\n",
       "      <td>67948</td>\n",
       "      <td>Pedro Manrique Figueroa</td>\n",
       "      <td>Colombian, born 1934</td>\n",
       "      <td>Colombian</td>\n",
       "      <td>Male</td>\n",
       "      <td>1934</td>\n",
       "      <td>0</td>\n",
       "      <td>NaN</td>\n",
       "      <td>NaN</td>\n",
       "    </tr>\n",
       "    <tr>\n",
       "      <th>14841</th>\n",
       "      <td>74798</td>\n",
       "      <td>Mikhail Fadeev</td>\n",
       "      <td>Russian</td>\n",
       "      <td>Russian</td>\n",
       "      <td>Male</td>\n",
       "      <td>0</td>\n",
       "      <td>0</td>\n",
       "      <td>NaN</td>\n",
       "      <td>NaN</td>\n",
       "    </tr>\n",
       "  </tbody>\n",
       "</table>\n",
       "</div>"
      ],
      "text/plain": [
       "       ConstituentID                      DisplayName             ArtistBio  \\\n",
       "13202          44844                    Eladio Dieste  Uruguayan, 1917–2000   \n",
       "1639            1856        Gabriel Fernández Ledesma    Mexican, 1900–1982   \n",
       "8049           10117  Jernbolaget, Eskilstuna, Sweden             est. 1868   \n",
       "14462          67948          Pedro Manrique Figueroa  Colombian, born 1934   \n",
       "14841          74798                   Mikhail Fadeev               Russian   \n",
       "\n",
       "      Nationality Gender  BeginDate  EndDate Wiki QID  ULAN  \n",
       "13202   Uruguayan   Male       1917     2000      NaN   NaN  \n",
       "1639      Mexican   Male       1900     1982      NaN   NaN  \n",
       "8049          NaN    NaN       1868        0      NaN   NaN  \n",
       "14462   Colombian   Male       1934        0      NaN   NaN  \n",
       "14841     Russian   Male          0        0      NaN   NaN  "
      ]
     },
     "execution_count": 3,
     "metadata": {},
     "output_type": "execute_result"
    }
   ],
   "source": [
    "artists_df.sample(5)"
   ]
  },
  {
   "cell_type": "code",
   "execution_count": 4,
   "id": "ac0ee020",
   "metadata": {
    "scrolled": true
   },
   "outputs": [
    {
     "data": {
      "text/html": [
       "<div>\n",
       "<style scoped>\n",
       "    .dataframe tbody tr th:only-of-type {\n",
       "        vertical-align: middle;\n",
       "    }\n",
       "\n",
       "    .dataframe tbody tr th {\n",
       "        vertical-align: top;\n",
       "    }\n",
       "\n",
       "    .dataframe thead th {\n",
       "        text-align: right;\n",
       "    }\n",
       "</style>\n",
       "<table border=\"1\" class=\"dataframe\">\n",
       "  <thead>\n",
       "    <tr style=\"text-align: right;\">\n",
       "      <th></th>\n",
       "      <th>Title</th>\n",
       "      <th>Artist</th>\n",
       "      <th>ConstituentID</th>\n",
       "      <th>ArtistBio</th>\n",
       "      <th>Nationality</th>\n",
       "      <th>BeginDate</th>\n",
       "      <th>EndDate</th>\n",
       "      <th>Gender</th>\n",
       "      <th>Date</th>\n",
       "      <th>Medium</th>\n",
       "      <th>...</th>\n",
       "      <th>ThumbnailURL</th>\n",
       "      <th>Circumference (cm)</th>\n",
       "      <th>Depth (cm)</th>\n",
       "      <th>Diameter (cm)</th>\n",
       "      <th>Height (cm)</th>\n",
       "      <th>Length (cm)</th>\n",
       "      <th>Weight (kg)</th>\n",
       "      <th>Width (cm)</th>\n",
       "      <th>Seat Height (cm)</th>\n",
       "      <th>Duration (sec.)</th>\n",
       "    </tr>\n",
       "  </thead>\n",
       "  <tbody>\n",
       "    <tr>\n",
       "      <th>58443</th>\n",
       "      <td>Flipper</td>\n",
       "      <td>Blinky Palermo</td>\n",
       "      <td>4474</td>\n",
       "      <td>(German, 1943–1977)</td>\n",
       "      <td>(German)</td>\n",
       "      <td>(1943)</td>\n",
       "      <td>(1977)</td>\n",
       "      <td>(Male)</td>\n",
       "      <td>1970</td>\n",
       "      <td>Screenprint on two sheets</td>\n",
       "      <td>...</td>\n",
       "      <td>http://www.moma.org/media/W1siZiIsIjUyNzM4OCJd...</td>\n",
       "      <td>NaN</td>\n",
       "      <td>NaN</td>\n",
       "      <td>NaN</td>\n",
       "      <td>80.0</td>\n",
       "      <td>NaN</td>\n",
       "      <td>NaN</td>\n",
       "      <td>60.0</td>\n",
       "      <td>NaN</td>\n",
       "      <td>NaN</td>\n",
       "    </tr>\n",
       "    <tr>\n",
       "      <th>51834</th>\n",
       "      <td>Rubber Dummies, Metro Goldwyn Mayer Studios, H...</td>\n",
       "      <td>Edward Weston</td>\n",
       "      <td>6329</td>\n",
       "      <td>(American, 1886–1958)</td>\n",
       "      <td>(American)</td>\n",
       "      <td>(1886)</td>\n",
       "      <td>(1958)</td>\n",
       "      <td>(Male)</td>\n",
       "      <td>1939</td>\n",
       "      <td>Gelatin silver print</td>\n",
       "      <td>...</td>\n",
       "      <td>http://www.moma.org/media/W1siZiIsIjIwOTA2NSJd...</td>\n",
       "      <td>NaN</td>\n",
       "      <td>NaN</td>\n",
       "      <td>NaN</td>\n",
       "      <td>19.3</td>\n",
       "      <td>NaN</td>\n",
       "      <td>NaN</td>\n",
       "      <td>24.4</td>\n",
       "      <td>NaN</td>\n",
       "      <td>NaN</td>\n",
       "    </tr>\n",
       "    <tr>\n",
       "      <th>135340</th>\n",
       "      <td>Catalytic text: 20 January 2017. First line: “...</td>\n",
       "      <td>Ben Kinmont</td>\n",
       "      <td>41829</td>\n",
       "      <td>(American, born 1963)</td>\n",
       "      <td>(American)</td>\n",
       "      <td>(1963)</td>\n",
       "      <td>(0)</td>\n",
       "      <td>(Male)</td>\n",
       "      <td>2018</td>\n",
       "      <td>Newspaper ad</td>\n",
       "      <td>...</td>\n",
       "      <td>NaN</td>\n",
       "      <td>NaN</td>\n",
       "      <td>NaN</td>\n",
       "      <td>NaN</td>\n",
       "      <td>NaN</td>\n",
       "      <td>NaN</td>\n",
       "      <td>NaN</td>\n",
       "      <td>NaN</td>\n",
       "      <td>NaN</td>\n",
       "      <td>NaN</td>\n",
       "    </tr>\n",
       "    <tr>\n",
       "      <th>46741</th>\n",
       "      <td>Untitled (plate 8) from the album Champs Délic...</td>\n",
       "      <td>Man Ray (Emmanuel Radnitzky)</td>\n",
       "      <td>3716</td>\n",
       "      <td>(American, 1890–1976)</td>\n",
       "      <td>(American)</td>\n",
       "      <td>(1890)</td>\n",
       "      <td>(1976)</td>\n",
       "      <td>(Male)</td>\n",
       "      <td>1922</td>\n",
       "      <td>Gelatin silver print after rayograph</td>\n",
       "      <td>...</td>\n",
       "      <td>http://www.moma.org/media/W1siZiIsIjE5OTI3NyJd...</td>\n",
       "      <td>NaN</td>\n",
       "      <td>NaN</td>\n",
       "      <td>NaN</td>\n",
       "      <td>23.2</td>\n",
       "      <td>NaN</td>\n",
       "      <td>NaN</td>\n",
       "      <td>16.7</td>\n",
       "      <td>NaN</td>\n",
       "      <td>NaN</td>\n",
       "    </tr>\n",
       "    <tr>\n",
       "      <th>72949</th>\n",
       "      <td>The Knights (Les Chevaliers) from Xylographs (...</td>\n",
       "      <td>Vasily Kandinsky</td>\n",
       "      <td>2981</td>\n",
       "      <td>(French, born Russia. 1866–1944)</td>\n",
       "      <td>(French)</td>\n",
       "      <td>(1866)</td>\n",
       "      <td>(1944)</td>\n",
       "      <td>(Male)</td>\n",
       "      <td>1909 (executed 1907)</td>\n",
       "      <td>One from a portfolio of eight heliogravures af...</td>\n",
       "      <td>...</td>\n",
       "      <td>http://www.moma.org/media/W1siZiIsIjEzNDkwOSJd...</td>\n",
       "      <td>NaN</td>\n",
       "      <td>NaN</td>\n",
       "      <td>NaN</td>\n",
       "      <td>14.3</td>\n",
       "      <td>NaN</td>\n",
       "      <td>NaN</td>\n",
       "      <td>14.5</td>\n",
       "      <td>NaN</td>\n",
       "      <td>NaN</td>\n",
       "    </tr>\n",
       "  </tbody>\n",
       "</table>\n",
       "<p>5 rows × 29 columns</p>\n",
       "</div>"
      ],
      "text/plain": [
       "                                                    Title  \\\n",
       "58443                                             Flipper   \n",
       "51834   Rubber Dummies, Metro Goldwyn Mayer Studios, H...   \n",
       "135340  Catalytic text: 20 January 2017. First line: “...   \n",
       "46741   Untitled (plate 8) from the album Champs Délic...   \n",
       "72949   The Knights (Les Chevaliers) from Xylographs (...   \n",
       "\n",
       "                              Artist ConstituentID  \\\n",
       "58443                 Blinky Palermo          4474   \n",
       "51834                  Edward Weston          6329   \n",
       "135340                   Ben Kinmont         41829   \n",
       "46741   Man Ray (Emmanuel Radnitzky)          3716   \n",
       "72949               Vasily Kandinsky          2981   \n",
       "\n",
       "                               ArtistBio Nationality BeginDate EndDate  \\\n",
       "58443                (German, 1943–1977)    (German)    (1943)  (1977)   \n",
       "51834              (American, 1886–1958)  (American)    (1886)  (1958)   \n",
       "135340             (American, born 1963)  (American)    (1963)     (0)   \n",
       "46741              (American, 1890–1976)  (American)    (1890)  (1976)   \n",
       "72949   (French, born Russia. 1866–1944)    (French)    (1866)  (1944)   \n",
       "\n",
       "        Gender                  Date  \\\n",
       "58443   (Male)                  1970   \n",
       "51834   (Male)                  1939   \n",
       "135340  (Male)                  2018   \n",
       "46741   (Male)                  1922   \n",
       "72949   (Male)  1909 (executed 1907)   \n",
       "\n",
       "                                                   Medium  ...  \\\n",
       "58443                           Screenprint on two sheets  ...   \n",
       "51834                                Gelatin silver print  ...   \n",
       "135340                                       Newspaper ad  ...   \n",
       "46741                Gelatin silver print after rayograph  ...   \n",
       "72949   One from a portfolio of eight heliogravures af...  ...   \n",
       "\n",
       "                                             ThumbnailURL Circumference (cm)  \\\n",
       "58443   http://www.moma.org/media/W1siZiIsIjUyNzM4OCJd...                NaN   \n",
       "51834   http://www.moma.org/media/W1siZiIsIjIwOTA2NSJd...                NaN   \n",
       "135340                                                NaN                NaN   \n",
       "46741   http://www.moma.org/media/W1siZiIsIjE5OTI3NyJd...                NaN   \n",
       "72949   http://www.moma.org/media/W1siZiIsIjEzNDkwOSJd...                NaN   \n",
       "\n",
       "       Depth (cm) Diameter (cm) Height (cm) Length (cm) Weight (kg)  \\\n",
       "58443         NaN           NaN        80.0         NaN         NaN   \n",
       "51834         NaN           NaN        19.3         NaN         NaN   \n",
       "135340        NaN           NaN         NaN         NaN         NaN   \n",
       "46741         NaN           NaN        23.2         NaN         NaN   \n",
       "72949         NaN           NaN        14.3         NaN         NaN   \n",
       "\n",
       "        Width (cm) Seat Height (cm) Duration (sec.)  \n",
       "58443         60.0              NaN             NaN  \n",
       "51834         24.4              NaN             NaN  \n",
       "135340         NaN              NaN             NaN  \n",
       "46741         16.7              NaN             NaN  \n",
       "72949         14.5              NaN             NaN  \n",
       "\n",
       "[5 rows x 29 columns]"
      ]
     },
     "execution_count": 4,
     "metadata": {},
     "output_type": "execute_result"
    }
   ],
   "source": [
    "artworks_df.sample(5)"
   ]
  },
  {
   "cell_type": "code",
   "execution_count": 5,
   "id": "8a993354",
   "metadata": {},
   "outputs": [
    {
     "data": {
      "text/plain": [
       "79056                                    Light in Far Field\n",
       "137988                                   Cóctel (Cocktail)\n",
       "3276                                          Bowl (no. 93)\n",
       "21442     THE LITTLE FISH AND THE FISHERMAN (plate; volu...\n",
       "135936                  Knifing Victim I, Chicago, Illinois\n",
       "81267     Tugendhat House, Brno, Czech Republic, Second ...\n",
       "18398     Plate (folio 17) from Six Geometric Figures an...\n",
       "122568                              Itinerant Basket-makers\n",
       "39626                       FONTAINE DU MARCHÉ SAINT-HONORÉ\n",
       "5777                      From Winters Gloom to Summers Joy\n",
       "Name: Title, dtype: object"
      ]
     },
     "execution_count": 5,
     "metadata": {},
     "output_type": "execute_result"
    }
   ],
   "source": [
    "artworks_df['Title'].sample(10)"
   ]
  },
  {
   "cell_type": "code",
   "execution_count": 6,
   "id": "0c5c9237",
   "metadata": {},
   "outputs": [
    {
     "data": {
      "text/plain": [
       "19191        One from an illustrated book with 329 woodcuts\n",
       "22581                                                   NaN\n",
       "127644                                 Gelatin silver print\n",
       "974                              Plastic, metal, and rubber\n",
       "28845     Wood engraving from an illustrated book with 2...\n",
       "41871                                  Gelatin silver print\n",
       "95754                                                Poster\n",
       "78862                         Pen and ink and wash on paper\n",
       "97238                                  Gelatin silver print\n",
       "78549                  Watercolor and crayon on graph paper\n",
       "Name: Medium, dtype: object"
      ]
     },
     "execution_count": 6,
     "metadata": {},
     "output_type": "execute_result"
    }
   ],
   "source": [
    "artworks_df['Medium'].sample(10)"
   ]
  },
  {
   "cell_type": "markdown",
   "id": "2c195629",
   "metadata": {},
   "source": [
    "Through the example lines, we can see that the title and the medium column are very detailed and thus hard to use as raw to generate summary statistics. \n",
    "* Some title column contains not only the titles of the artworks but also some other information. A good way would be to keep only the first part of the title, which is the part before the first ',', to keep as the title of the artwork. \n",
    "* The original plan was to create pie plot for types of artworks and relate with other data. Since the 'Medium' column is much more detailed than expected, it would be hard to follow the original plan. Therefore, I decided to explore my topics cutting in from other columns. "
   ]
  },
  {
   "cell_type": "code",
   "execution_count": 7,
   "id": "fe56da1b",
   "metadata": {},
   "outputs": [
    {
     "name": "stderr",
     "output_type": "stream",
     "text": [
      "/tmp/ipykernel_70/1156968381.py:6: SettingWithCopyWarning: \n",
      "A value is trying to be set on a copy of a slice from a DataFrame\n",
      "\n",
      "See the caveats in the documentation: https://pandas.pydata.org/pandas-docs/stable/user_guide/indexing.html#returning-a-view-versus-a-copy\n",
      "  artworks_df['First Title'][count] = title.split(',')[0]\n"
     ]
    }
   ],
   "source": [
    "# This cell takes some time to run\n",
    "\n",
    "artworks_df['First Title'] = '-'\n",
    "\n",
    "count = 0\n",
    "for title in artworks_df['Title']:\n",
    "    if type(title) is str: \n",
    "        artworks_df['First Title'][count] = title.split(',')[0]\n",
    "        count = count + 1"
   ]
  },
  {
   "cell_type": "markdown",
   "id": "b3ac06bf",
   "metadata": {},
   "source": [
    "Now, there will be a new column in the dataframe containing only the first part of the title that will be used for sentiment analysis in the analysis part. "
   ]
  },
  {
   "cell_type": "code",
   "execution_count": 8,
   "id": "572a2a45",
   "metadata": {},
   "outputs": [
    {
     "data": {
      "text/plain": [
       "Text(0, 0.5, 'Frequency')"
      ]
     },
     "execution_count": 8,
     "metadata": {},
     "output_type": "execute_result"
    },
    {
     "data": {
      "image/png": "[encoded data removed]",
      "text/plain": [
       "<Figure size 640x480 with 1 Axes>"
      ]
     },
     "metadata": {},
     "output_type": "display_data"
    }
   ],
   "source": [
    "# create a list for ages of artists\n",
    "\n",
    "count = 0\n",
    "ages = []\n",
    "for bd in artists_df['BeginDate']:\n",
    "    if bd == 0:\n",
    "        count = count + 1\n",
    "        continue\n",
    "    if artists_df['EndDate'][count] == 0:\n",
    "        age = 2023 - bd\n",
    "        ages = ages + [age]\n",
    "        count = count + 1\n",
    "    else:\n",
    "        age = artists_df['EndDate'][count] - bd\n",
    "        ages = ages + [age]\n",
    "        count = count + 1\n",
    "\n",
    "# exclude some impossible values\n",
    "\n",
    "ages = [age for age in ages if age < 120]\n",
    "\n",
    "plt.hist(ages)\n",
    "plt.title('Distribution of ages of artists')\n",
    "plt.xlabel('Age')\n",
    "plt.ylabel('Frequency')"
   ]
  },
  {
   "cell_type": "markdown",
   "id": "0af543d2",
   "metadata": {},
   "source": [
    "Above is the distribution of ages of artists in this collection with impossible values excluded. We can see that the majority of artists in this collection ages from around 50 to 90. "
   ]
  },
  {
   "cell_type": "code",
   "execution_count": 9,
   "id": "931fb56c",
   "metadata": {},
   "outputs": [
    {
     "data": {
      "image/png": "[encoded data removed]",
      "text/plain": [
       "<Figure size 640x480 with 1 Axes>"
      ]
     },
     "metadata": {},
     "output_type": "display_data"
    }
   ],
   "source": [
    "# create a list for counts of artists with and without Wiki QID\n",
    "\n",
    "type = ['With Wiki QID', 'Without Wiki QID']\n",
    "count = [0, 0]\n",
    "\n",
    "\n",
    "for i in artists_df['Wiki QID']:\n",
    "    if pd.isna(i):\n",
    "        count[1] = count[1] + 1\n",
    "    else:\n",
    "        count[0] = count[0] + 1\n",
    "\n",
    "plt.barh(type, count)\n",
    " \n",
    "for index, value in enumerate(count):\n",
    "    plt.text(value, index,str(value))\n",
    " \n",
    "plt.title('Artist Wiki QID status')\n",
    "plt.xlabel('Frequency')\n",
    "plt.show()"
   ]
  },
  {
   "cell_type": "markdown",
   "id": "2f91d3c5",
   "metadata": {},
   "source": [
    "The above plot shows the number of artists with and without Wiki QID. We can see that the majority of artists in this collection does not have a Wiki QID, implying that this collection probably does not have a tendency towards famous artists. "
   ]
  },
  {
   "cell_type": "code",
   "execution_count": 10,
   "id": "07ba70cd",
   "metadata": {},
   "outputs": [],
   "source": [
    "date_list = []\n",
    "for i in artworks_df['Date']:\n",
    "  if (not pd.isna(i)) and i.isnumeric() and len(i) == 4:\n",
    "    date_list = date_list + [int(i)]"
   ]
  },
  {
   "cell_type": "code",
   "execution_count": 11,
   "id": "fc0a2162",
   "metadata": {},
   "outputs": [
    {
     "data": {
      "image/png": "[encoded data removed]",
      "text/plain": [
       "<Figure size 640x480 with 1 Axes>"
      ]
     },
     "metadata": {},
     "output_type": "display_data"
    }
   ],
   "source": [
    "plt.hist(date_list)\n",
    "plt.title('Distribution of Dates of Artworks')\n",
    "plt.xlabel('Date')\n",
    "plt.ylabel('Frequency')\n",
    "plt.show()"
   ]
  },
  {
   "cell_type": "markdown",
   "id": "5aafa9d2",
   "metadata": {},
   "source": [
    "Above is a histogram on the distribution of dates that artworks are created. We can see that the graph is right skewed, which means it flavors artworks that are more contemporary as a modern art collection, and has the most artworks created from early 1900s to 2000s. "
   ]
  },
  {
   "cell_type": "code",
   "execution_count": 12,
   "id": "876379e0",
   "metadata": {
    "scrolled": true
   },
   "outputs": [
    {
     "data": {
      "image/png": "[encoded data removed]",
      "text/plain": [
       "<Figure size 640x480 with 1 Axes>"
      ]
     },
     "metadata": {},
     "output_type": "display_data"
    }
   ],
   "source": [
    "gender = ['Female', 'Male', 'Non-Binary', 'N/A']\n",
    "gender_count = [0, 0, 0, 0]\n",
    "\n",
    "for i in artists_df['Gender']:\n",
    "    if pd.isna(i):\n",
    "        gender_count[3] += 1\n",
    "    elif i.lower() == 'female':\n",
    "        gender_count[0] += 1\n",
    "    elif i.lower() == 'male':\n",
    "        gender_count[1] += 1\n",
    "    elif i.lower() == 'non-binary':\n",
    "        gender_count[2] += 1\n",
    "    else:\n",
    "        gender_count[3] += 1\n",
    "\n",
    "plt.pie(gender_count, labels=gender, autopct='%1.1f%%')\n",
    "plt.title('Artists Gender')\n",
    "plt.show()"
   ]
  },
  {
   "cell_type": "markdown",
   "id": "1fcf3a92",
   "metadata": {},
   "source": [
    "From the plot, we can see that most of the artists in this collection are male, 15.4% of them are female, and only nearly neglectable part of them are non-binary. This shows that male artists are more recognized and acknowledged generally within the range of collection. As shown on former graph, the major range of collection for this dataset is between 1900 and 2010, to explore more about how gender of artists could affect themselves and their artworks and how it combines with other factors such as dates and history backgrounds, it is worthy do dig deeper into the relationships of gender and other data in the following focused analysis. "
   ]
  },
  {
   "cell_type": "markdown",
   "id": "ed46bd78",
   "metadata": {},
   "source": [
    "### Focused Analysis\n",
    "\n",
    "* Through some exploratoration on the dataset, we can see that this collection does not have uniform distribution on a lot of aspects of artists and artworks. It provides some general insights on the dataset, but not enough to allow us to make conclutions or imply some other underlying factors that causes such distributions. \n",
    "\n",
    "* The next session includes a further analysis of the data and provides visualizations to provide a deeper look into the dataset and useful insights that cuts in from a more detailed look to explore the research question. "
   ]
  },
  {
   "cell_type": "code",
   "execution_count": 29,
   "id": "2f2438ab",
   "metadata": {},
   "outputs": [
    {
     "name": "stderr",
     "output_type": "stream",
     "text": [
      "/tmp/ipykernel_70/3976049913.py:10: SettingWithCopyWarning: \n",
      "A value is trying to be set on a copy of a slice from a DataFrame\n",
      "\n",
      "See the caveats in the documentation: https://pandas.pydata.org/pandas-docs/stable/user_guide/indexing.html#returning-a-view-versus-a-copy\n",
      "  artworks_df['Area'][count] = round(artworks_df['Height (cm)'][count] * artworks_df['Width (cm)'][count], 2)\n",
      "/tmp/ipykernel_70/3976049913.py:7: SettingWithCopyWarning: \n",
      "A value is trying to be set on a copy of a slice from a DataFrame\n",
      "\n",
      "See the caveats in the documentation: https://pandas.pydata.org/pandas-docs/stable/user_guide/indexing.html#returning-a-view-versus-a-copy\n",
      "  artworks_df['Area'][count] = 0\n"
     ]
    }
   ],
   "source": [
    "# add a new column 'Area' to the dataframe, rounded up to two decimals, in cm^2\n",
    "artworks_df['Area'] = '-'\n",
    "\n",
    "count = 0\n",
    "for a in artworks_df['Area']:\n",
    "  if pd.isna(artworks_df['Height (cm)'][count]) or pd.isna(artworks_df['Width (cm)'][count]):\n",
    "    artworks_df['Area'][count] = 0\n",
    "    count += 1\n",
    "  else:\n",
    "    artworks_df['Area'][count] = round(artworks_df['Height (cm)'][count] * artworks_df['Width (cm)'][count], 2)\n",
    "    count += 1"
   ]
  },
  {
   "cell_type": "code",
   "execution_count": null,
   "id": "4cbdd230",
   "metadata": {},
   "outputs": [],
   "source": []
  },
  {
   "cell_type": "markdown",
   "id": "4c722baa",
   "metadata": {},
   "source": [
    "TODO: analysis 1"
   ]
  },
  {
   "cell_type": "code",
   "execution_count": null,
   "id": "fee08e54",
   "metadata": {},
   "outputs": [],
   "source": []
  },
  {
   "cell_type": "markdown",
   "id": "e0b0a1d4",
   "metadata": {},
   "source": []
  },
  {
   "cell_type": "code",
   "execution_count": null,
   "id": "db53a2a5",
   "metadata": {},
   "outputs": [],
   "source": []
  },
  {
   "cell_type": "markdown",
   "id": "6b86d041",
   "metadata": {},
   "source": []
  },
  {
   "cell_type": "code",
   "execution_count": null,
   "id": "1639e354",
   "metadata": {},
   "outputs": [],
   "source": []
  },
  {
   "cell_type": "markdown",
   "id": "2f5e76f9",
   "metadata": {},
   "source": []
  },
  {
   "cell_type": "markdown",
   "id": "6de29edb",
   "metadata": {},
   "source": [
    "## Discussion\n",
    "* TODO: what does the analysis show, big picture, and how are they useful\n",
    "* link back to research questions\n",
    "\n",
    "### Conclusion"
   ]
  },
  {
   "cell_type": "markdown",
   "id": "4e823fd0",
   "metadata": {},
   "source": [
    "## Reference\n"
   ]
  }
 ],
 "metadata": {
  "kernelspec": {
   "display_name": "Python 3 (ipykernel)",
   "language": "python",
   "name": "python3"
  },
  "language_info": {
   "codemirror_mode": {
    "name": "ipython",
    "version": 3
   },
   "file_extension": ".py",
   "mimetype": "text/x-python",
   "name": "python",
   "nbconvert_exporter": "python",
   "pygments_lexer": "ipython3",
   "version": "3.10.8"
  }
 },
 "nbformat": 4,
 "nbformat_minor": 5
}
